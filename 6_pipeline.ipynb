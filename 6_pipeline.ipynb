{
 "cells": [
  {
   "cell_type": "markdown",
   "id": "b4e0e498",
   "metadata": {},
   "source": [
    "### Ejecución de una predicción con modelo entrenado"
   ]
  },
  {
   "cell_type": "code",
   "execution_count": 11,
   "id": "de437e0b",
   "metadata": {},
   "outputs": [],
   "source": [
    "#librerías\n",
    "import pandas as pd\n",
    "import joblib"
   ]
  },
  {
   "cell_type": "code",
   "execution_count": 12,
   "id": "33802ae2",
   "metadata": {},
   "outputs": [],
   "source": [
    "#CArgamos el modelo entrenado\n",
    "pipeline = joblib.load('xgb_end_model.pkl')"
   ]
  },
  {
   "cell_type": "code",
   "execution_count": 13,
   "id": "6dd8cca2",
   "metadata": {},
   "outputs": [
    {
     "name": "stdout",
     "output_type": "stream",
     "text": [
      "Predicción de ABV para este lote: 6.95% vol.\n"
     ]
    }
   ],
   "source": [
    "# Preparamos un diccionario con los valores medidos en maceración y cocción\n",
    "datos_lote = {\n",
    "    'reposo2_min': 22,\n",
    "    'reposo2_temp': 65,\n",
    "    'reposo3_min': 4,\n",
    "    'reposo3_temp': 72,\n",
    "    'reposo4_min': 15,\n",
    "    'reposo4_temp': 78,\n",
    "    'pH_1': 5.2,\n",
    "    'primer_mosto_extracto':20,\n",
    "    'ultima_agua_extracto': 2.5,\n",
    "    'agua_lavado_temp': 78,\n",
    "    'temperatura_llenado': 95,\n",
    "    'paila_llena_extracto': 12.0,\n",
    "    'ebullicion_minutos': 80,\n",
    "    'ebullicion_temp': 106,\n",
    "    'mosto_frio_extracto': 16\n",
    "}\n",
    "\n",
    "# Convertirlo a DataFrame de una sola fila\n",
    "df_nuevo = pd.DataFrame([datos_lote])\n",
    "\n",
    "# Predecir el ABV\n",
    "abv_pred = pipeline.predict(df_nuevo)[0]\n",
    "print(f\"Predicción de ABV para este lote: {abv_pred:.2f}% vol.\")\n"
   ]
  }
 ],
 "metadata": {
  "kernelspec": {
   "display_name": "tfm_env_junio",
   "language": "python",
   "name": "python3"
  },
  "language_info": {
   "codemirror_mode": {
    "name": "ipython",
    "version": 3
   },
   "file_extension": ".py",
   "mimetype": "text/x-python",
   "name": "python",
   "nbconvert_exporter": "python",
   "pygments_lexer": "ipython3",
   "version": "3.10.18"
  }
 },
 "nbformat": 4,
 "nbformat_minor": 5
}
